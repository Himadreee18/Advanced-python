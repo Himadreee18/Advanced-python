{
  "nbformat": 4,
  "nbformat_minor": 0,
  "metadata": {
    "colab": {
      "provenance": [],
      "authorship_tag": "ABX9TyPzNDP+0csOOvtBab9mcvyB",
      "include_colab_link": true
    },
    "kernelspec": {
      "name": "python3",
      "display_name": "Python 3"
    },
    "language_info": {
      "name": "python"
    }
  },
  "cells": [
    {
      "cell_type": "markdown",
      "metadata": {
        "id": "view-in-github",
        "colab_type": "text"
      },
      "source": [
        "<a href=\"https://colab.research.google.com/github/Himadreee18/Advanced-python/blob/main/advanced_python_day_1.ipynb\" target=\"_parent\"><img src=\"https://colab.research.google.com/assets/colab-badge.svg\" alt=\"Open In Colab\"/></a>"
      ]
    },
    {
      "cell_type": "code",
      "execution_count": null,
      "metadata": {
        "colab": {
          "base_uri": "https://localhost:8080/"
        },
        "id": "Fgz9o7StHCQd",
        "outputId": "60e0c54b-e720-4c81-8842-5a41d6daec21"
      },
      "outputs": [
        {
          "output_type": "stream",
          "name": "stdout",
          "text": [
            "Hello\n"
          ]
        }
      ],
      "source": [
        "print('Hello')"
      ]
    },
    {
      "cell_type": "code",
      "source": [
        "a = 4\n",
        "b = 6\n",
        "sum = a + b\n",
        "difference = a - b\n",
        "\n",
        "print(\"The sum of a and b is:\", sum)\n",
        "print(\"The difference between a and b is:\", difference)"
      ],
      "metadata": {
        "colab": {
          "base_uri": "https://localhost:8080/"
        },
        "id": "nsNH6hYUH9BO",
        "outputId": "1c23b2af-b676-4188-9ae3-7089d00f79b4"
      },
      "execution_count": null,
      "outputs": [
        {
          "output_type": "stream",
          "name": "stdout",
          "text": [
            "The sum of a and b is: 10\n",
            "The difference between a and b is: -2\n"
          ]
        }
      ]
    },
    {
      "cell_type": "code",
      "source": [
        "a = int(input(\"Enter the value of a: \"))\n",
        "b = int(input(\"Enter the value of b: \"))\n",
        "\n",
        "sum_result = a + b\n",
        "difference_result = a - b\n",
        "\n",
        "print(\"The sum of a and b is:\", sum_result)\n",
        "print(\"the difference of a and b is:\", difference_result)"
      ],
      "metadata": {
        "colab": {
          "base_uri": "https://localhost:8080/"
        },
        "id": "RZ4Yv4vfOKBE",
        "outputId": "678e76bc-f892-40ea-f668-267fcfd2b933"
      },
      "execution_count": null,
      "outputs": [
        {
          "output_type": "stream",
          "name": "stdout",
          "text": [
            "Enter the value of a: 4\n",
            "Enter the value of b: 6\n",
            "The sum of a and b is: 10\n",
            "the difference of a and b is: -2\n"
          ]
        }
      ]
    },
    {
      "cell_type": "code",
      "source": [
        "a = int(input('Enter the first number'))\n",
        "b = int(input('Enter the second number'))\n",
        "sum = a + b\n",
        "difference = a - b\n",
        "print(sum)\n",
        "print(difference)"
      ],
      "metadata": {
        "colab": {
          "base_uri": "https://localhost:8080/"
        },
        "id": "V2fnhT5BOrqk",
        "outputId": "71fb3b46-289a-4848-d6d1-5e07a7c5b1fc"
      },
      "execution_count": null,
      "outputs": [
        {
          "output_type": "stream",
          "name": "stdout",
          "text": [
            "Enter the first number10\n",
            "Enter the second number20\n",
            "30\n",
            "-10\n"
          ]
        }
      ]
    },
    {
      "cell_type": "code",
      "source": [
        "def add_numbers(a, b):\n",
        "    return a + b\n",
        "result = add_numbers(5, 3)\n",
        "print(\"The sum is:\", result)\n",
        "\n"
      ],
      "metadata": {
        "colab": {
          "base_uri": "https://localhost:8080/"
        },
        "id": "0OdgBm5XRAYs",
        "outputId": "0bc6b7df-1d78-4e5c-faa7-1bb404485fb6"
      },
      "execution_count": null,
      "outputs": [
        {
          "output_type": "stream",
          "name": "stdout",
          "text": [
            "The sum is: 8\n"
          ]
        }
      ]
    },
    {
      "cell_type": "code",
      "source": [
        "name = \"Alice\"\n",
        "age = 30\n",
        "formatted_string = \"My name is {name} and I am {age} years old.\".format(name=name, age=age)\n",
        "print(formatted_string)\n"
      ],
      "metadata": {
        "colab": {
          "base_uri": "https://localhost:8080/"
        },
        "id": "bbo29FWFV6rc",
        "outputId": "314df208-55d8-4083-923a-1d9654b15293"
      },
      "execution_count": null,
      "outputs": [
        {
          "output_type": "stream",
          "name": "stdout",
          "text": [
            "My name is Alice and I am 30 years old.\n"
          ]
        }
      ]
    },
    {
      "cell_type": "code",
      "source": [
        "product = \"Python course\"\n",
        "price = 99.99\n",
        "formatted_string = f\"{product} costs ${price:.2f}.\"\n",
        "print(formatted_string)"
      ],
      "metadata": {
        "colab": {
          "base_uri": "https://localhost:8080/"
        },
        "id": "Dbr92DXvV9N6",
        "outputId": "2ac56a9d-c765-4213-9f55-d48255b9749d"
      },
      "execution_count": null,
      "outputs": [
        {
          "output_type": "stream",
          "name": "stdout",
          "text": [
            "Python course costs $99.99.\n"
          ]
        }
      ]
    },
    {
      "cell_type": "code",
      "source": [
        "print(\"NIET\\nGREATER NOIDA\")"
      ],
      "metadata": {
        "colab": {
          "base_uri": "https://localhost:8080/"
        },
        "id": "qBlAOUPTW-As",
        "outputId": "bda84a44-7817-4463-d328-4e1aaec0d46f"
      },
      "execution_count": null,
      "outputs": [
        {
          "output_type": "stream",
          "name": "stdout",
          "text": [
            "NIET\n",
            "GREATER NOIDA\n"
          ]
        }
      ]
    },
    {
      "cell_type": "code",
      "source": [
        "print('NIET', 'Amity', sep=' , ')"
      ],
      "metadata": {
        "colab": {
          "base_uri": "https://localhost:8080/"
        },
        "id": "bwj_npFrX2dO",
        "outputId": "23c1462a-3e96-4a7f-f452-91dd83305068"
      },
      "execution_count": null,
      "outputs": [
        {
          "output_type": "stream",
          "name": "stdout",
          "text": [
            "NIET , Anity\n"
          ]
        }
      ]
    },
    {
      "cell_type": "code",
      "source": [
        "print('NIET', end=' , ')\n",
        "print('Amity')"
      ],
      "metadata": {
        "colab": {
          "base_uri": "https://localhost:8080/"
        },
        "id": "UYYL06zZZu_e",
        "outputId": "df221e61-6245-4ed6-bcb7-ae6d8f2d2b8b"
      },
      "execution_count": null,
      "outputs": [
        {
          "output_type": "stream",
          "name": "stdout",
          "text": [
            "NIET , Amity\n"
          ]
        }
      ]
    },
    {
      "cell_type": "code",
      "source": [
        "X = 10\n",
        "print(type(X))"
      ],
      "metadata": {
        "colab": {
          "base_uri": "https://localhost:8080/"
        },
        "id": "6xCgJDcIceDy",
        "outputId": "f10612f7-cb57-451d-a63c-39571fae8ef1"
      },
      "execution_count": null,
      "outputs": [
        {
          "output_type": "stream",
          "name": "stdout",
          "text": [
            "<class 'int'>\n"
          ]
        }
      ]
    },
    {
      "cell_type": "code",
      "source": [
        "a = 5\n",
        "b = 2\n",
        "print(a//b)"
      ],
      "metadata": {
        "colab": {
          "base_uri": "https://localhost:8080/"
        },
        "id": "PVNK3chYc-oC",
        "outputId": "fd8b137c-ff3a-432d-a5fb-e782247c8a1e"
      },
      "execution_count": null,
      "outputs": [
        {
          "output_type": "stream",
          "name": "stdout",
          "text": [
            "2\n"
          ]
        }
      ]
    },
    {
      "cell_type": "code",
      "source": [
        "total = 0\n",
        "total += 5\n",
        "total += 10\n",
        "total += 3\n",
        "print(\"The final total is:\", total)"
      ],
      "metadata": {
        "colab": {
          "base_uri": "https://localhost:8080/"
        },
        "id": "JvJVnw7UercU",
        "outputId": "6c0c8438-cdbb-4b8c-a787-dabc59036553"
      },
      "execution_count": null,
      "outputs": [
        {
          "output_type": "stream",
          "name": "stdout",
          "text": [
            "The final total is: 18\n"
          ]
        }
      ]
    },
    {
      "cell_type": "code",
      "source": [
        "print(bin(50))"
      ],
      "metadata": {
        "colab": {
          "base_uri": "https://localhost:8080/"
        },
        "id": "3ZpoVwrDgGZD",
        "outputId": "3a3036e6-5017-43d5-80ef-8ce68ce01030"
      },
      "execution_count": null,
      "outputs": [
        {
          "output_type": "stream",
          "name": "stdout",
          "text": [
            "0b110010\n"
          ]
        }
      ]
    },
    {
      "cell_type": "code",
      "source": [
        "print(int('110010', 2))"
      ],
      "metadata": {
        "colab": {
          "base_uri": "https://localhost:8080/"
        },
        "id": "C8qzgb2YgVBR",
        "outputId": "f6889e16-5f5f-4a53-9fe2-0b2ffb56770c"
      },
      "execution_count": null,
      "outputs": [
        {
          "output_type": "stream",
          "name": "stdout",
          "text": [
            "50\n"
          ]
        }
      ]
    },
    {
      "cell_type": "code",
      "source": [
        "a = [5,4,3,2,1]\n",
        "print(5 in a)"
      ],
      "metadata": {
        "colab": {
          "base_uri": "https://localhost:8080/"
        },
        "id": "LqbJ4Ezehsem",
        "outputId": "198f3bb8-57d5-4248-ab0e-915ccfaa42fe"
      },
      "execution_count": null,
      "outputs": [
        {
          "output_type": "stream",
          "name": "stdout",
          "text": [
            "True\n"
          ]
        }
      ]
    },
    {
      "cell_type": "code",
      "source": [
        "a = \"Hello\"\n",
        "b = \"Hello\"\n",
        "print(a is b)"
      ],
      "metadata": {
        "colab": {
          "base_uri": "https://localhost:8080/"
        },
        "id": "8xk00Pxji55j",
        "outputId": "a536a217-3ad3-464c-d229-83b5d9a9f142"
      },
      "execution_count": null,
      "outputs": [
        {
          "output_type": "stream",
          "name": "stdout",
          "text": [
            "True\n"
          ]
        }
      ]
    },
    {
      "cell_type": "code",
      "source": [
        "a = 5000\n",
        "b = 5000\n",
        "print(id(a))\n",
        "print(id(b))\n",
        "print(a is b)\n"
      ],
      "metadata": {
        "colab": {
          "base_uri": "https://localhost:8080/"
        },
        "id": "kBcgZaELkEtR",
        "outputId": "05edf92d-e868-44bf-a6fb-8753f2a89a9c"
      },
      "execution_count": null,
      "outputs": [
        {
          "output_type": "stream",
          "name": "stdout",
          "text": [
            "131972876102032\n",
            "131972876105168\n",
            "False\n"
          ]
        }
      ]
    },
    {
      "cell_type": "markdown",
      "source": [
        "Write a program to input 3 marks of student, find the average and print the following:\n",
        "Print grade = A if average is <= 90 else print grade = B if <= 75 else print grade = C"
      ],
      "metadata": {
        "id": "HxuvXb9Il5q6"
      }
    },
    {
      "cell_type": "code",
      "source": [
        "mark1 = float(input(\"First mark: \"))\n",
        "mark2 = float(input(\"Second mark: \"))\n",
        "mark3 = float(input(\"Third mark: \"))\n",
        "\n",
        "average = (mark1 + mark2 + mark3) / 3\n",
        "\n",
        "if average <= 90:\n",
        "  print(\"Grade = A\")\n",
        "elif average <= 75:\n",
        "  print(\"Grade = B\")\n",
        "else:\n",
        "  print(\"Grade = C\")"
      ],
      "metadata": {
        "colab": {
          "base_uri": "https://localhost:8080/"
        },
        "id": "kB6fY2X8m0wT",
        "outputId": "a930a808-d222-443f-febc-3376f46c2239"
      },
      "execution_count": null,
      "outputs": [
        {
          "output_type": "stream",
          "name": "stdout",
          "text": [
            "First mark: 90\n",
            "Second mark: 69\n",
            "Third mark: 87\n",
            "Grade = A\n"
          ]
        }
      ]
    },
    {
      "cell_type": "code",
      "source": [],
      "metadata": {
        "id": "GqUItKHz-fFK"
      },
      "execution_count": null,
      "outputs": []
    },
    {
      "cell_type": "code",
      "source": [
        "num1 = float(input(\"Enter the first number: \"))\n",
        "num2 = float(input(\"Enter the second number: \"))\n",
        "num3 = float(input(\"Enter the third number: \"))\n",
        "\n",
        "if num1 >= num2:\n",
        "  if num1 >= num3:\n",
        "    greatest = num1\n",
        "  else:\n",
        "    greatest = num3\n",
        "else:\n",
        "  if num2 >= num3:\n",
        "    greatest = num2\n",
        "  else:\n",
        "    greatest = num3\n",
        "\n",
        "print(\"The greatest number is:\", greatest)\n"
      ],
      "metadata": {
        "id": "hMEEtdSG8yBd",
        "colab": {
          "base_uri": "https://localhost:8080/"
        },
        "outputId": "5300b1d1-6a8c-45b6-efdc-819a35c5f567"
      },
      "execution_count": null,
      "outputs": [
        {
          "output_type": "stream",
          "name": "stdout",
          "text": [
            "Enter the first number: 99\n",
            "Enter the second number: 67\n",
            "Enter the third number: 45\n",
            "The greatest number is: 99.0\n"
          ]
        }
      ]
    },
    {
      "cell_type": "code",
      "source": [
        "num = int(input(\"Enter a number: \"))\n",
        "sum = 0\n",
        "while num > 0:\n",
        "  sum = sum + num\n",
        "  num = num - 1\n",
        "print(\"The sum is:\", sum)\n",
        "\n"
      ],
      "metadata": {
        "colab": {
          "base_uri": "https://localhost:8080/"
        },
        "id": "4TsxYvmRDlAc",
        "outputId": "e27c5106-07b3-4a0a-9012-58c03d117356"
      },
      "execution_count": null,
      "outputs": [
        {
          "output_type": "stream",
          "name": "stdout",
          "text": [
            "Enter a number: 5\n",
            "The sum is: 15\n"
          ]
        }
      ]
    },
    {
      "cell_type": "code",
      "source": [
        "str = \"PYTHON\"\n",
        "print(\"str [1:5] = \", str[1:5])\n",
        "print(\"str [:6] = \", str[:6])\n",
        "print(\"str [-2:] = \", str[-2:])\n",
        "print(\"str [::2] = \", str[::2])\n",
        "print(\"str [::-1] = \", str[::-1])\n"
      ],
      "metadata": {
        "colab": {
          "base_uri": "https://localhost:8080/"
        },
        "id": "QLHnvyliJT_Q",
        "outputId": "93004d4a-cbb8-44fd-fd5a-f6da5ef433ab"
      },
      "execution_count": null,
      "outputs": [
        {
          "output_type": "stream",
          "name": "stdout",
          "text": [
            "str [1:5] =  YTHO\n",
            "str [:6] =  PYTHON\n",
            "str [-2:] =  ON\n",
            "str [::2] =  PTO\n",
            "str [::-1] =  NOHTYP\n"
          ]
        }
      ]
    },
    {
      "cell_type": "code",
      "source": [
        "list1 = [1,2,3,4,5,6,7,8,9,10]\n",
        "list2 =  list1[1:7:2]\n",
        "print(list2)"
      ],
      "metadata": {
        "colab": {
          "base_uri": "https://localhost:8080/"
        },
        "id": "3HQ7mn9TSWz7",
        "outputId": "bb09ea5c-f682-4877-b8a6-dfdc17921582"
      },
      "execution_count": null,
      "outputs": [
        {
          "output_type": "stream",
          "name": "stdout",
          "text": [
            "[2, 4, 6]\n"
          ]
        }
      ]
    },
    {
      "cell_type": "code",
      "source": [
        "list1 = [10, 20, 30, 40, 50]\n",
        "list2 = list1[::-1]\n",
        "print(list2)\n"
      ],
      "metadata": {
        "colab": {
          "base_uri": "https://localhost:8080/"
        },
        "id": "bptImWVnVW_4",
        "outputId": "db6a7c28-0395-459d-d3f4-1053e23d1f5c"
      },
      "execution_count": null,
      "outputs": [
        {
          "output_type": "stream",
          "name": "stdout",
          "text": [
            "[50, 40, 30, 20, 10]\n"
          ]
        }
      ]
    },
    {
      "cell_type": "code",
      "source": [
        "cubes = [i**3 for i in range(1, 11)]\n",
        "cubes"
      ],
      "metadata": {
        "colab": {
          "base_uri": "https://localhost:8080/"
        },
        "id": "pZBWma6uYn74",
        "outputId": "96e93131-a00f-48cf-a079-1e5676f0cfc6"
      },
      "execution_count": null,
      "outputs": [
        {
          "output_type": "execute_result",
          "data": {
            "text/plain": [
              "[1, 8, 27, 64, 125, 216, 343, 512, 729, 1000]"
            ]
          },
          "metadata": {},
          "execution_count": 23
        }
      ]
    }
  ]
}