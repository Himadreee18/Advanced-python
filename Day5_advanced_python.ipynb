{
  "nbformat": 4,
  "nbformat_minor": 0,
  "metadata": {
    "colab": {
      "provenance": [],
      "authorship_tag": "ABX9TyM0IvseP57aOeWBfHC5/+8V",
      "include_colab_link": true
    },
    "kernelspec": {
      "name": "python3",
      "display_name": "Python 3"
    },
    "language_info": {
      "name": "python"
    }
  },
  "cells": [
    {
      "cell_type": "markdown",
      "metadata": {
        "id": "view-in-github",
        "colab_type": "text"
      },
      "source": [
        "<a href=\"https://colab.research.google.com/github/Himadreee18/Advanced-python/blob/main/Day5_advanced_python.ipynb\" target=\"_parent\"><img src=\"https://colab.research.google.com/assets/colab-badge.svg\" alt=\"Open In Colab\"/></a>"
      ]
    },
    {
      "cell_type": "markdown",
      "source": [
        "encapsulation, inheritance, polymorphism"
      ],
      "metadata": {
        "id": "_VowtA0Dv4DS"
      }
    },
    {
      "cell_type": "code",
      "execution_count": null,
      "metadata": {
        "colab": {
          "base_uri": "https://localhost:8080/"
        },
        "id": "VtKqcB76qFmx",
        "outputId": "9cd98418-28b2-47ae-a9b0-d6fed72006a3"
      },
      "outputs": [
        {
          "output_type": "stream",
          "name": "stdout",
          "text": [
            "I can eat\n",
            "My name is  Rohu\n"
          ]
        }
      ],
      "source": [
        "class Animal:\n",
        "  name = \"\"\n",
        "  def eat(self):\n",
        "    print(\"I can eat\")\n",
        "\n",
        "class Dog(Animal):\n",
        "  def display(self):\n",
        "    print(\"My name is \", self.name)\n",
        "\n",
        "labrador = Dog()\n",
        "labrador.name = \"Rohu\"\n",
        "labrador.eat()\n",
        "labrador.display()"
      ]
    },
    {
      "cell_type": "markdown",
      "source": [
        "types of inheritance\n",
        "single inheritance\n",
        "multi level inheritance\n",
        "hierchial inheritance\n",
        "multiple inheritance"
      ],
      "metadata": {
        "id": "Hdjet9Ou155t"
      }
    },
    {
      "cell_type": "code",
      "source": [
        "class Father:\n",
        "  money = 1000\n",
        "  def show(self):\n",
        "    print(\"Parent class instance method\")\n",
        "  @classmethod\n",
        "  def moneyshow(cls):\n",
        "    print(\"Parent  class class method: total money = \", cls.money)\n",
        "  @staticmethod\n",
        "  def stat_method():\n",
        "    a = 5\n",
        "    print(\"Parent class static method: the value of a is \", a)\n",
        "\n",
        "class Son(Father):\n",
        "  def son_display(self):\n",
        "    print(\"Child class instance method\")\n",
        "s = Son()\n",
        "s.show()\n",
        "s.moneyshow()\n",
        "s.stat_method()\n",
        "s.son_display()"
      ],
      "metadata": {
        "colab": {
          "base_uri": "https://localhost:8080/"
        },
        "id": "Bzaby2Ci13gK",
        "outputId": "853bf47e-32aa-4a14-a810-7c23dd38764a"
      },
      "execution_count": null,
      "outputs": [
        {
          "output_type": "stream",
          "name": "stdout",
          "text": [
            "Parent class instance method\n",
            "Parent  class class method: total money =  1000\n",
            "Parent class static method: the value of a is  5\n",
            "Child class instance method\n"
          ]
        }
      ]
    },
    {
      "cell_type": "code",
      "source": [
        "class Person:\n",
        "  def __init__(self, fname, lname):\n",
        "    self.fname = fname\n",
        "    self.lname = lname\n",
        "    print(\"First name is {} and last name is {}\".format(self.fname, self.lname))\n",
        "class Student(Person):\n",
        "  def __init__(self, fname, lname, ):\n",
        "    super().__init__(fname, lname)\n",
        "    print(\"Inside student class init\")\n",
        "s = Student(\"Mohit\", \"Kumar\")"
      ],
      "metadata": {
        "colab": {
          "base_uri": "https://localhost:8080/"
        },
        "id": "RqFbWNX2BLG9",
        "outputId": "e2f9776f-64f0-40ae-baa3-b11345702697"
      },
      "execution_count": null,
      "outputs": [
        {
          "output_type": "stream",
          "name": "stdout",
          "text": [
            "First name is Mohit and last name is Kumar\n",
            "Inside student class init\n"
          ]
        }
      ]
    },
    {
      "cell_type": "markdown",
      "source": [
        "multilevel inheritance"
      ],
      "metadata": {
        "id": "zWilAHFyD804"
      }
    },
    {
      "cell_type": "code",
      "source": [
        "class Animal:\n",
        "    def __init__(self, name):\n",
        "        self.name = name\n",
        "\n",
        "    def speak(self):\n",
        "        print(\"Generic animal sound\")\n",
        "\n",
        "class Dog(Animal):\n",
        "    def bark(self):\n",
        "        print(\"Woof!\")\n",
        "\n",
        "class Labrador(Dog):\n",
        "    def swim(self):\n",
        "        print(\"Swimming\")\n",
        "\n",
        "lab = Labrador(\"Buddy\")\n",
        "lab.speak() # Output: Generic animal sound\n",
        "lab.bark() # Output: Woof!\n",
        "lab.swim() # Output: Swimming\n",
        "print(lab.name) # Output: Buddy"
      ],
      "metadata": {
        "colab": {
          "base_uri": "https://localhost:8080/"
        },
        "id": "VdYv6tLZD_nU",
        "outputId": "b55b8a4a-ca80-4535-84a2-333df1230630"
      },
      "execution_count": null,
      "outputs": [
        {
          "output_type": "stream",
          "name": "stdout",
          "text": [
            "Generic animal sound\n",
            "Woof!\n",
            "Swimming\n",
            "Buddy\n"
          ]
        }
      ]
    },
    {
      "cell_type": "code",
      "source": [
        "class Father:\n",
        "  def __init__(self):\n",
        "    print(\"Father class constructor\")\n",
        "  def show_father(self):\n",
        "    pass # Add pass as a placeholder or add the method's body here\n",
        "\n",
        "class Son(Father):\n",
        "  def __init__(self):\n",
        "    super().__init__()\n",
        "    print(\"Son class constructor\")\n",
        "  def show_son(self):\n",
        "    print(\"Son class method\")\n",
        "\n",
        "class GrasndSon(Son):\n",
        "  def __init__(self):\n",
        "    super().__init__()\n",
        "    print(\"Grandson class constructor\")\n",
        "  def show_grandson(self):\n",
        "    print(\"Grandson class method\")\n",
        "\n",
        "g = GrasndSon()\n",
        "g.show_father()"
      ],
      "metadata": {
        "colab": {
          "base_uri": "https://localhost:8080/"
        },
        "id": "G9gfOkg1FVdS",
        "outputId": "0f6aab12-937f-493f-ee95-bcbcafe0bad2"
      },
      "execution_count": null,
      "outputs": [
        {
          "output_type": "stream",
          "name": "stdout",
          "text": [
            "Father class constructor\n",
            "Son class constructor\n",
            "Grandson class constructor\n"
          ]
        }
      ]
    },
    {
      "cell_type": "markdown",
      "source": [
        "multiple inheritance"
      ],
      "metadata": {
        "id": "p9BRoW0vKKxp"
      }
    },
    {
      "cell_type": "code",
      "source": [
        "class Father:\n",
        "  def __init__(self):\n",
        "    print(\"Father class constructor\")\n",
        "  def show_father(self):\n",
        "    print(\"Father class method\")\n",
        "\n",
        "class Mother:\n",
        "  def __init__(self):\n",
        "    print(\"Mother class constructor\")\n",
        "  def show_mother(self):\n",
        "    print(\"Mother class method\")\n",
        "\n",
        "class Son(Father, Mother):\n",
        "  def __init__(self):\n",
        "    print(\"Son class constructor\")\n",
        "  def show_son(self):\n",
        "    print(\"Son class method\")\n",
        "\n",
        "s = Son()\n",
        "s.show_father()\n",
        "s.show_mother()\n",
        "s.show_son()"
      ],
      "metadata": {
        "colab": {
          "base_uri": "https://localhost:8080/"
        },
        "id": "WBjoJOhBKNpK",
        "outputId": "ea7859ff-ab0c-407d-ac0a-51247ec5f22e"
      },
      "execution_count": null,
      "outputs": [
        {
          "output_type": "stream",
          "name": "stdout",
          "text": [
            "Son class constructor\n",
            "Father class method\n",
            "Mother class method\n",
            "Son class method\n"
          ]
        }
      ]
    },
    {
      "cell_type": "markdown",
      "source": [
        "access modifiers in python"
      ],
      "metadata": {
        "id": "cBUhTia9NdMZ"
      }
    },
    {
      "cell_type": "code",
      "source": [
        "class Student:\n",
        "  __name = None\n",
        "  __roll = None\n",
        "  __branch = None\n",
        "  def __init__(self, name, roll, branch):\n",
        "    self.__name = name\n",
        "    self.__roll = roll\n",
        "    self.__branch = branch\n",
        "\n",
        " def __init__(self, name, roll, branch):\n",
        "    self.__name = name\n",
        "    self.__roll = roll\n",
        "    self.__branch = branch\n",
        "\n",
        "clas Learnowx(Student):\n",
        "  def __init__(self, name, roll, branch):\n",
        "    super().__init__(name, roll, branch)\n"
      ],
      "metadata": {
        "id": "x8HPVRUfNgan"
      },
      "execution_count": null,
      "outputs": []
    },
    {
      "cell_type": "code",
      "source": [
        "class Computer:\n",
        "  def __init__(self):\n",
        "\n",
        "    self.__maxprice = 900\n",
        "  def sell(self):\n",
        "\n",
        "    print(\"Selling Price: {}\".format(self.__maxprice))\n",
        "  def setMaxPrice(self, price):\n",
        "\n",
        "    self.__maxprice = price\n",
        "\n",
        "c = Computer()\n",
        "c.sell()\n",
        "c.setMaxPrice(1000)\n",
        "c.sell()"
      ],
      "metadata": {
        "colab": {
          "base_uri": "https://localhost:8080/"
        },
        "id": "Y7pj_TI6tRGK",
        "outputId": "d9153255-eb08-4d65-d18f-6cf02d373bb4"
      },
      "execution_count": null,
      "outputs": [
        {
          "output_type": "stream",
          "name": "stdout",
          "text": [
            "Selling Price: 900\n",
            "Selling Price: 1000\n"
          ]
        }
      ]
    },
    {
      "cell_type": "code",
      "source": [
        "| **Section**                                          | **Marks Weightage** |\n",
        "| ---------------------------------------------------- | ------------------- |\n",
        "| **General Aptitude**                                 | 15                  |\n",
        "| **Engineering Mathematics**                          | 13–15               |\n",
        "| **General Biology**                                  | 10–12               |\n",
        "| **Genetics, Cellular & Molecular Biology**           | 10–12               |\n",
        "| **Fundamentals of Biological Engineering**           | 16–18               |\n",
        "| **Bioprocess Engineering & Process Biotechnology**   | 11–13               |\n",
        "| **Plant, Animal & Microbial Biotechnology**          | 7–9                 |\n",
        "| **Recombinant DNA Technology & Biotechnology Tools** | 10–12               |\n",
        "| **Total**                                            | **100**             |\n"
      ],
      "metadata": {
        "id": "ss8kmTX3vF4i"
      },
      "execution_count": null,
      "outputs": []
    }
  ]
}