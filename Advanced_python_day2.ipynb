{
  "nbformat": 4,
  "nbformat_minor": 0,
  "metadata": {
    "colab": {
      "provenance": [],
      "authorship_tag": "ABX9TyPB9D/BF3SRxMCpDI/7CO83",
      "include_colab_link": true
    },
    "kernelspec": {
      "name": "python3",
      "display_name": "Python 3"
    },
    "language_info": {
      "name": "python"
    }
  },
  "cells": [
    {
      "cell_type": "markdown",
      "metadata": {
        "id": "view-in-github",
        "colab_type": "text"
      },
      "source": [
        "<a href=\"https://colab.research.google.com/github/Himadreee18/Advanced-python/blob/main/Advanced_python_day2.ipynb\" target=\"_parent\"><img src=\"https://colab.research.google.com/assets/colab-badge.svg\" alt=\"Open In Colab\"/></a>"
      ]
    },
    {
      "cell_type": "markdown",
      "source": [],
      "metadata": {
        "id": "82BQ6JyPa3EI"
      }
    },
    {
      "cell_type": "code",
      "execution_count": null,
      "metadata": {
        "colab": {
          "base_uri": "https://localhost:8080/"
        },
        "id": "0z_XNnInNk3u",
        "outputId": "636bfb94-9632-47b0-b758-f2ebb65d70e7"
      },
      "outputs": [
        {
          "output_type": "stream",
          "name": "stdout",
          "text": [
            "<class 'int'>\n",
            "<class 'str'>\n"
          ]
        }
      ],
      "source": [
        "a = 5\n",
        "b = 'NIET'\n",
        "print(type(a))\n",
        "print(type(b))"
      ]
    },
    {
      "cell_type": "code",
      "source": [
        "class StudentInfo:\n",
        "  def putdata(self):\n",
        "    self.id = int(input('Enter id: '))\n",
        "    self.name = input('Enter name: ')\n",
        "  def getdata(self):\n",
        "    print('ID:',self.id)\n",
        "    print('Name:',self.name)\n",
        "E1 = StudentInfo()\n",
        "E2 = StudentInfo()\n",
        "E1.putdata()\n",
        "E1.getdata()\n",
        "E2.putdata()\n",
        "E2.getdata()"
      ],
      "metadata": {
        "colab": {
          "base_uri": "https://localhost:8080/"
        },
        "id": "Rh7Ic-VYVffr",
        "outputId": "51b2b5bb-d74e-4360-a469-a9e0b2f65207"
      },
      "execution_count": null,
      "outputs": [
        {
          "output_type": "stream",
          "name": "stdout",
          "text": [
            "Enter id: 056\n",
            "Enter name: Himadri\n",
            "ID: 56\n",
            "Name: Himadri\n",
            "Enter id: 999\n",
            "Enter name: bckujcij\n",
            "ID: 999\n",
            "Name: bckujcij\n"
          ]
        }
      ]
    },
    {
      "cell_type": "code",
      "source": [
        "class TeacherInfo:\n",
        "  def putdata(self):\n",
        "    self.teacher_id = int(input('Enter teacher ID: '))\n",
        "    self.subject = input('Enter subject taught: ')\n",
        "  def getdata(self):\n",
        "    print('Teacher ID:', self.teacher_id)\n",
        "    print('Subject:', self.subject)\n",
        "\n",
        "T1 = TeacherInfo()\n",
        "T1.putdata()\n",
        "T1.getdata()"
      ],
      "metadata": {
        "colab": {
          "base_uri": "https://localhost:8080/"
        },
        "id": "6XJ7Y5G5b0iK",
        "outputId": "eabb420b-d893-4782-e449-ad45c55731fd"
      },
      "execution_count": null,
      "outputs": [
        {
          "output_type": "stream",
          "name": "stdout",
          "text": [
            "Enter teacher ID: 123\n",
            "Enter subject taught: python\n",
            "Teacher ID: 123\n",
            "Subject: python\n"
          ]
        }
      ]
    },
    {
      "cell_type": "code",
      "source": [
        "class Employee:\n",
        "  def __init__(self , name ,age,salary):\n",
        "    self.n1 = name\n",
        "    self.a1 = age\n",
        "    self.s1 = salary\n",
        "E1 = Employee('Raj', 30,50000)\n",
        "print(f'{E1.n1} is {E1.a1} years old and the salary is {E1.s1}')"
      ],
      "metadata": {
        "colab": {
          "base_uri": "https://localhost:8080/"
        },
        "id": "wGXGBOafgxuR",
        "outputId": "faa7b8a9-470d-4b62-8ebf-2e241eba9cc7"
      },
      "execution_count": null,
      "outputs": [
        {
          "output_type": "stream",
          "name": "stdout",
          "text": [
            "Raj is 30 years old and the salary is 50000\n"
          ]
        }
      ]
    },
    {
      "cell_type": "code",
      "source": [
        "class Employee:\n",
        "   def __init__(self, name, age, salary):\n",
        "     self.n1 = name\n",
        "     self.a1 = age\n",
        "     self.s1 = salary\n",
        "   def display(self):\n",
        "      print(f'{self.n1} is {self.a1} yewras old and the salary is {self.s1}')\n",
        "   def give_raise(self, amount):\n",
        "      self.s1 += amount\n",
        "E1 = Employee('Raj',30,50000)\n",
        "E1.display()\n",
        "E1.give_raise(10000)\n",
        "E1.display()"
      ],
      "metadata": {
        "colab": {
          "base_uri": "https://localhost:8080/"
        },
        "id": "MvjGGJzvj2pf",
        "outputId": "d9fbb020-af9f-44e4-add9-aa1b206cb970"
      },
      "execution_count": null,
      "outputs": [
        {
          "output_type": "stream",
          "name": "stdout",
          "text": [
            "Raj is 30 yewras old and the salary is 50000\n",
            "Raj is 30 yewras old and the salary is 60000\n"
          ]
        }
      ]
    },
    {
      "cell_type": "code",
      "source": [
        "class Dog:\n",
        "  species = 'mammal'\n",
        "\n",
        "  def __init__(self, name, age):\n",
        "    self.name = name\n",
        "    self.age = age\n",
        "dog1 = Dog(\"Buddy\" , 3)\n",
        "dog2 = Dog(\"Max\" , 5)\n",
        "print(dog1.name , dog1.age)\n",
        "print(dog2.name , dog2.age)\n",
        "print(dog1.species)\n",
        "print(dog2.species)\n",
        "Dog.species = 'dog'\n",
        "print(dog1.species)\n",
        "print(dog2.species)"
      ],
      "metadata": {
        "id": "8iK_6rz5rQV4",
        "colab": {
          "base_uri": "https://localhost:8080/"
        },
        "outputId": "f4b6c0c7-ae9a-404f-9984-b6d285ab3f68"
      },
      "execution_count": null,
      "outputs": [
        {
          "output_type": "stream",
          "name": "stdout",
          "text": [
            "Buddy 3\n",
            "Max 5\n",
            "mammal\n",
            "mammal\n",
            "dog\n",
            "dog\n"
          ]
        }
      ]
    },
    {
      "cell_type": "code",
      "source": [
        "class Person:\n",
        "  def __init__(self, name, age):\n",
        "    self.name = name\n",
        "    self.age = age\n",
        "  def __str__(self):\n",
        "    return f'{self.name} is {self.age} years old'\n",
        "p1 = Person('Raj', 25)\n",
        "print(p1)"
      ],
      "metadata": {
        "colab": {
          "base_uri": "https://localhost:8080/"
        },
        "id": "CBuMbePvHLFh",
        "outputId": "d0aaa9da-dffe-4dee-cca8-1bc812dc6602"
      },
      "execution_count": null,
      "outputs": [
        {
          "output_type": "stream",
          "name": "stdout",
          "text": [
            "Raj is 25 years old\n"
          ]
        }
      ]
    },
    {
      "cell_type": "code",
      "source": [
        "class Person:\n",
        "  def __init__(self, name, age):\n",
        "    self.name = name\n",
        "    self.age = age\n",
        "p1 =  Person('Raj', 25)\n",
        "print(p1)"
      ],
      "metadata": {
        "colab": {
          "base_uri": "https://localhost:8080/"
        },
        "id": "fF5EoJiIJ-CH",
        "outputId": "87b728dc-d8b0-4b84-a70d-d71bf5bd110f"
      },
      "execution_count": null,
      "outputs": [
        {
          "output_type": "stream",
          "name": "stdout",
          "text": [
            "<__main__.Person object at 0x7e697d5cb750>\n"
          ]
        }
      ]
    },
    {
      "cell_type": "code",
      "source": [
        "class Person:\n",
        "  def __init__(self, name, age):\n",
        "    self.name = name\n",
        "    self.age = age\n",
        "  def __str__(self):\n",
        "    return f'{self.name} is {self.age} years old'\n",
        "p1 = Person('Raj', 25)\n",
        "print(p1)"
      ],
      "metadata": {
        "colab": {
          "base_uri": "https://localhost:8080/"
        },
        "id": "CyF4pjk7QkDF",
        "outputId": "1d20bb9f-4b00-442b-d0b8-ee3a16654b4c"
      },
      "execution_count": null,
      "outputs": [
        {
          "output_type": "stream",
          "name": "stdout",
          "text": [
            "Raj is 25 years old\n"
          ]
        }
      ]
    },
    {
      "cell_type": "code",
      "source": [
        "class Dog:\n",
        "  species = \"Cannis familiaris\"\n",
        "\n",
        "  def __init__(self, name, age):\n",
        "    self.name = name\n",
        "    self.age = age\n",
        "\n",
        "  def set_species(cls, new_species):\n",
        "    cls.species = new_species\n",
        "\n",
        "d1 = Dog(\"Buddy\", 3)\n",
        "d2 = Dog(\"Lucy\", 5)\n",
        "\n",
        "print(d1.species)\n",
        "print(d2.species)"
      ],
      "metadata": {
        "colab": {
          "base_uri": "https://localhost:8080/"
        },
        "id": "nklokf94XZQQ",
        "outputId": "dc9f7f71-25dd-47c5-fec5-766a6ed98618"
      },
      "execution_count": null,
      "outputs": [
        {
          "output_type": "stream",
          "name": "stdout",
          "text": [
            "Cannis familiaris\n",
            "Cannis familiaris\n"
          ]
        }
      ]
    },
    {
      "cell_type": "code",
      "source": [
        "class BankAccount:\n",
        "    def __init__(self, account_number, balance=0):\n",
        "        self.account_number = account_number\n",
        "        self.balance = balance\n",
        "\n",
        "    def welcome_message(self):\n",
        "        print(f\"Welcome to your bank account, Account Number: {self.account_number}\")\n",
        "\n",
        "my_account = BankAccount(\"123456789\")\n",
        "my_account.welcome_message()\n"
      ],
      "metadata": {
        "colab": {
          "base_uri": "https://localhost:8080/"
        },
        "id": "r7Hccp0JX5by",
        "outputId": "7648a28d-c91f-4f85-a762-fae2ae9ce95b"
      },
      "execution_count": null,
      "outputs": [
        {
          "output_type": "stream",
          "name": "stdout",
          "text": [
            "Welcome to your bank account, Account Number: 123456789\n"
          ]
        }
      ]
    },
    {
      "cell_type": "code",
      "source": [
        "class BankAccount:\n",
        "  def __init__(self, account_number, name, balance=0):\n",
        "    self.account_number = account_number\n",
        "    self.name = name\n",
        "    self.balance = balance"
      ],
      "metadata": {
        "id": "b4Gai1wuc_fX"
      },
      "execution_count": null,
      "outputs": []
    },
    {
      "cell_type": "code",
      "source": [
        "class BankAccount:\n",
        "  def __init__(self, account_number, name, balance=0):\n",
        "        self.account_number = account_number\n",
        "        self.name = name\n",
        "        self.balance = balance\n",
        "  def display_account_info(self):\n",
        "    print(f\"Account Number: {self.account_number}\")\n",
        "    print(f\"Account Holder Name: {self.name}\")\n",
        "    print(f\"Current Balance: ${self.balance}\")\n",
        "\n",
        "my_account = BankAccount(\"987654321\", \"Alice Wonderland\", 1000)\n",
        "my_account.display_account_info()"
      ],
      "metadata": {
        "colab": {
          "base_uri": "https://localhost:8080/"
        },
        "id": "OVqvvqVZfK39",
        "outputId": "db9d06aa-2d57-407c-9e93-87c10481d33b"
      },
      "execution_count": null,
      "outputs": [
        {
          "output_type": "stream",
          "name": "stdout",
          "text": [
            "Account Number: 987654321\n",
            "Account Holder Name: Alice Wonderland\n",
            "Current Balance: $1000\n"
          ]
        }
      ]
    }
  ]
}