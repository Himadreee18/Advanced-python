{
  "nbformat": 4,
  "nbformat_minor": 0,
  "metadata": {
    "colab": {
      "provenance": [],
      "authorship_tag": "ABX9TyMvQ5da1emEEYlVBa2wIeJW",
      "include_colab_link": true
    },
    "kernelspec": {
      "name": "python3",
      "display_name": "Python 3"
    },
    "language_info": {
      "name": "python"
    }
  },
  "cells": [
    {
      "cell_type": "markdown",
      "metadata": {
        "id": "view-in-github",
        "colab_type": "text"
      },
      "source": [
        "<a href=\"https://colab.research.google.com/github/Himadreee18/Advanced-python/blob/main/advanced_pythonday3.ipynb\" target=\"_parent\"><img src=\"https://colab.research.google.com/assets/colab-badge.svg\" alt=\"Open In Colab\"/></a>"
      ]
    },
    {
      "cell_type": "code",
      "execution_count": null,
      "metadata": {
        "colab": {
          "base_uri": "https://localhost:8080/"
        },
        "id": "2yC4ACbuVtzZ",
        "outputId": "252dd735-dbae-4d78-a848-e4b1bf7e811f"
      },
      "outputs": [
        {
          "output_type": "execute_result",
          "data": {
            "text/plain": [
              "['__abs__',\n",
              " '__add__',\n",
              " '__and__',\n",
              " '__bool__',\n",
              " '__ceil__',\n",
              " '__class__',\n",
              " '__delattr__',\n",
              " '__dir__',\n",
              " '__divmod__',\n",
              " '__doc__',\n",
              " '__eq__',\n",
              " '__float__',\n",
              " '__floor__',\n",
              " '__floordiv__',\n",
              " '__format__',\n",
              " '__ge__',\n",
              " '__getattribute__',\n",
              " '__getnewargs__',\n",
              " '__getstate__',\n",
              " '__gt__',\n",
              " '__hash__',\n",
              " '__index__',\n",
              " '__init__',\n",
              " '__init_subclass__',\n",
              " '__int__',\n",
              " '__invert__',\n",
              " '__le__',\n",
              " '__lshift__',\n",
              " '__lt__',\n",
              " '__mod__',\n",
              " '__mul__',\n",
              " '__ne__',\n",
              " '__neg__',\n",
              " '__new__',\n",
              " '__or__',\n",
              " '__pos__',\n",
              " '__pow__',\n",
              " '__radd__',\n",
              " '__rand__',\n",
              " '__rdivmod__',\n",
              " '__reduce__',\n",
              " '__reduce_ex__',\n",
              " '__repr__',\n",
              " '__rfloordiv__',\n",
              " '__rlshift__',\n",
              " '__rmod__',\n",
              " '__rmul__',\n",
              " '__ror__',\n",
              " '__round__',\n",
              " '__rpow__',\n",
              " '__rrshift__',\n",
              " '__rshift__',\n",
              " '__rsub__',\n",
              " '__rtruediv__',\n",
              " '__rxor__',\n",
              " '__setattr__',\n",
              " '__sizeof__',\n",
              " '__str__',\n",
              " '__sub__',\n",
              " '__subclasshook__',\n",
              " '__truediv__',\n",
              " '__trunc__',\n",
              " '__xor__',\n",
              " 'as_integer_ratio',\n",
              " 'bit_count',\n",
              " 'bit_length',\n",
              " 'conjugate',\n",
              " 'denominator',\n",
              " 'from_bytes',\n",
              " 'imag',\n",
              " 'numerator',\n",
              " 'real',\n",
              " 'to_bytes']"
            ]
          },
          "metadata": {},
          "execution_count": 1
        }
      ],
      "source": [
        "a = 5\n",
        "b = 8\n",
        "dir(int)"
      ]
    },
    {
      "cell_type": "code",
      "source": [
        "a = 6\n",
        "b = 9\n",
        "dir(strx=)"
      ],
      "metadata": {
        "colab": {
          "base_uri": "https://localhost:8080/"
        },
        "id": "oRrbHhBLcubv",
        "outputId": "1c262e91-6ada-45a0-fe45-75cfaf63e4f4"
      },
      "execution_count": null,
      "outputs": [
        {
          "output_type": "execute_result",
          "data": {
            "text/plain": [
              "['__add__',\n",
              " '__class__',\n",
              " '__contains__',\n",
              " '__delattr__',\n",
              " '__dir__',\n",
              " '__doc__',\n",
              " '__eq__',\n",
              " '__format__',\n",
              " '__ge__',\n",
              " '__getattribute__',\n",
              " '__getitem__',\n",
              " '__getnewargs__',\n",
              " '__getstate__',\n",
              " '__gt__',\n",
              " '__hash__',\n",
              " '__init__',\n",
              " '__init_subclass__',\n",
              " '__iter__',\n",
              " '__le__',\n",
              " '__len__',\n",
              " '__lt__',\n",
              " '__mod__',\n",
              " '__mul__',\n",
              " '__ne__',\n",
              " '__new__',\n",
              " '__reduce__',\n",
              " '__reduce_ex__',\n",
              " '__repr__',\n",
              " '__rmod__',\n",
              " '__rmul__',\n",
              " '__setattr__',\n",
              " '__sizeof__',\n",
              " '__str__',\n",
              " '__subclasshook__',\n",
              " 'capitalize',\n",
              " 'casefold',\n",
              " 'center',\n",
              " 'count',\n",
              " 'encode',\n",
              " 'endswith',\n",
              " 'expandtabs',\n",
              " 'find',\n",
              " 'format',\n",
              " 'format_map',\n",
              " 'index',\n",
              " 'isalnum',\n",
              " 'isalpha',\n",
              " 'isascii',\n",
              " 'isdecimal',\n",
              " 'isdigit',\n",
              " 'isidentifier',\n",
              " 'islower',\n",
              " 'isnumeric',\n",
              " 'isprintable',\n",
              " 'isspace',\n",
              " 'istitle',\n",
              " 'isupper',\n",
              " 'join',\n",
              " 'ljust',\n",
              " 'lower',\n",
              " 'lstrip',\n",
              " 'maketrans',\n",
              " 'partition',\n",
              " 'removeprefix',\n",
              " 'removesuffix',\n",
              " 'replace',\n",
              " 'rfind',\n",
              " 'rindex',\n",
              " 'rjust',\n",
              " 'rpartition',\n",
              " 'rsplit',\n",
              " 'rstrip',\n",
              " 'split',\n",
              " 'splitlines',\n",
              " 'startswith',\n",
              " 'strip',\n",
              " 'swapcase',\n",
              " 'title',\n",
              " 'translate',\n",
              " 'upper',\n",
              " 'zfill']"
            ]
          },
          "metadata": {},
          "execution_count": 2
        }
      ]
    },
    {
      "cell_type": "code",
      "source": [
        "num = 10\n",
        "x = num * 5\n",
        "print(x)\n"
      ],
      "metadata": {
        "colab": {
          "base_uri": "https://localhost:8080/"
        },
        "id": "1ZEusGE8d0x9",
        "outputId": "56b18135-1afa-43b1-d400-b671a5e43dbb"
      },
      "execution_count": null,
      "outputs": [
        {
          "output_type": "stream",
          "name": "stdout",
          "text": [
            "50\n"
          ]
        }
      ]
    },
    {
      "cell_type": "code",
      "source": [
        "num = 10\n",
        "x = num.__mul__(5)\n",
        "print(x)"
      ],
      "metadata": {
        "colab": {
          "base_uri": "https://localhost:8080/"
        },
        "id": "tljRihdNeFKG",
        "outputId": "f6138725-f56c-41a6-f821-8e5f833eed96"
      },
      "execution_count": null,
      "outputs": [
        {
          "output_type": "stream",
          "name": "stdout",
          "text": [
            "50\n"
          ]
        }
      ]
    },
    {
      "cell_type": "code",
      "source": [
        "st = 10\n",
        "x = str(st) + '5'\n",
        "print(x)"
      ],
      "metadata": {
        "colab": {
          "base_uri": "https://localhost:8080/"
        },
        "id": "l1V7gbDoe_Bm",
        "outputId": "b2824c2e-cb69-4a4e-c9c7-8a2f346b4cd4"
      },
      "execution_count": null,
      "outputs": [
        {
          "output_type": "stream",
          "name": "stdout",
          "text": [
            "105\n"
          ]
        }
      ]
    },
    {
      "cell_type": "code",
      "source": [
        "class Mass:\n",
        "    def __init__(self, kg=0, g=0):\n",
        "        self.kg = kg + g//1000\n",
        "        self.g = g%1000\n",
        "    def __add__(self, other):\n",
        "        totalkg = self.kg + other.kg\n",
        "        totalg = self.g + other.g\n",
        "\n",
        "        if totalg >= 1000:\n",
        "          totalkg += totalg//1000\n",
        "          totalg = totalg%1000\n",
        "\n",
        "        return Mass(totalkg, totalg)\n",
        "    def __repr__(self):\n",
        "        return f'{self.kg}.kg and {self.g} g'\n",
        "\n",
        "m1 = Mass(2, 750)\n",
        "m2 = Mass(3, 500)\n",
        "total_mass = mass1 + mass2\n",
        "\n",
        "m3 = m1 + m2\n",
        "print(m3)"
      ],
      "metadata": {
        "colab": {
          "base_uri": "https://localhost:8080/"
        },
        "id": "oY6Q0UMNf6sT",
        "outputId": "0e541ee2-be59-4680-e106-725a1701643d"
      },
      "execution_count": null,
      "outputs": [
        {
          "output_type": "stream",
          "name": "stdout",
          "text": [
            "6.kg and 250 g\n"
          ]
        }
      ]
    },
    {
      "cell_type": "code",
      "source": [
        "class Student:\n",
        "    def __init__(self, m1, m2):\n",
        "      self.m1 = m1\n",
        "      self.m1 = m2\n",
        "    def __lt__(self, other):\n",
        "       r1 = self.m1 + self.m2\n",
        "       r2 = other.m1 + other.m2\n",
        "       if r1 == r2:\n",
        "         return True\n",
        "       else:\n",
        "         return False\n",
        "s1 = Student(58, 69)\n",
        "s2 = Student(69, 65)\n",
        "\n",
        "if s1 == s2:\n",
        "  print(\"s1 is greater\")\n",
        "else:\n",
        "  print(\"s2 is greater\")"
      ],
      "metadata": {
        "colab": {
          "base_uri": "https://localhost:8080/"
        },
        "id": "h1N4fGiYl6oE",
        "outputId": "16814942-4ae9-4b61-a45e-12210484853c"
      },
      "execution_count": null,
      "outputs": [
        {
          "output_type": "stream",
          "name": "stdout",
          "text": [
            "s2 is greater\n"
          ]
        }
      ]
    },
    {
      "cell_type": "code",
      "source": [
        "class Student:\n",
        "    def __init__(self, m1, m2):\n",
        "      self.m1 = m1\n",
        "      self.m1 = m2\n",
        "    def __eq__(self, other):\n",
        "       r1 = self.m1 + self.m2\n",
        "       r2 = other.m1 + other.m2\n",
        "       if r1 > r2:\n",
        "         return True\n",
        "       else:\n",
        "         return False\n",
        "    def __gt__(self, other):\n",
        "       r1 = self.m1 + self.m1\n",
        "       r2 = other.m1 + other.m1\n",
        "       if r1 > r2:\n",
        "          return True\n",
        "       else:\n",
        "            return False\n",
        "s1 = Student(58, 69)\n",
        "s2 = Student(69, 65)\n",
        "\n",
        "if s1 > s2:\n",
        "  print(\"s1 is greater\")\n",
        "else:\n",
        "  print(\"s2 is greater\")"
      ],
      "metadata": {
        "colab": {
          "base_uri": "https://localhost:8080/"
        },
        "id": "6F-GXoi3ympR",
        "outputId": "8acce386-6850-4097-9491-7b7291ee656e"
      },
      "execution_count": null,
      "outputs": [
        {
          "output_type": "stream",
          "name": "stdout",
          "text": [
            "s1 is greater\n"
          ]
        }
      ]
    },
    {
      "cell_type": "code",
      "source": [
        "class Person:\n",
        "    def __new__(self):\n",
        "      print(\"This is new\")\n",
        "    def __init__(self):\n",
        "      print(\"This is init\")\n",
        "\n",
        "p = Person()"
      ],
      "metadata": {
        "colab": {
          "base_uri": "https://localhost:8080/"
        },
        "id": "xHCST_A_5k4W",
        "outputId": "0e4e24e8-55df-430a-ac23-ea59b394c2f8"
      },
      "execution_count": null,
      "outputs": [
        {
          "output_type": "stream",
          "name": "stdout",
          "text": [
            "This is new\n"
          ]
        }
      ]
    },
    {
      "cell_type": "code",
      "source": [
        "class MathOps:\n",
        "  def __init__(self, value):\n",
        "    self.value = value\n",
        "\n",
        "  def __add__(self, other):\n",
        "    return MathOps(self.value + other.value)\n",
        "\n",
        "  def __sub__(self, other):\n",
        "    return MathOps(self.value - other.value)\n",
        "\n",
        "  def __mul__(self, other):\n",
        "    return MathOps(self.value * other.value)\n",
        "\n",
        "  def __truediv__(self, other):\n",
        "    if other.value != 0:\n",
        "      return MathOps(self.value / other.value)\n",
        "    else:\n",
        "      raise ValueError(\"Cannot divide by zero\")\n",
        "\n",
        "  def __repr__(self):\n",
        "    return f'MathOps({self.value})'\n",
        "\n",
        "# Example usage:\n",
        "num1 = MathOps(10)\n",
        "num2 = MathOps(5)\n",
        "\n",
        "addition_result = num1 + num2\n",
        "print(f\"Addition: {addition_result}\")\n",
        "\n",
        "subtraction_result = num1 - num2\n",
        "print(f\"Subtraction: {subtraction_result}\")\n",
        "\n",
        "multiplication_result = num1 * num2\n",
        "print(f\"Multiplication: {multiplication_result}\")\n",
        "\n",
        "division_result = num1 / num2\n",
        "print(f\"Division: {division_result}\")"
      ],
      "metadata": {
        "colab": {
          "base_uri": "https://localhost:8080/"
        },
        "id": "iW33Ww2p6jad",
        "outputId": "5ccd201d-b33c-46ac-b4d6-5c56bba7f027"
      },
      "execution_count": null,
      "outputs": [
        {
          "output_type": "stream",
          "name": "stdout",
          "text": [
            "Addition: MathOps(15)\n",
            "Subtraction: MathOps(5)\n",
            "Multiplication: MathOps(50)\n",
            "Division: MathOps(2.0)\n"
          ]
        }
      ]
    },
    {
      "cell_type": "code",
      "source": [
        "import math\n",
        "class Fraction:\n",
        "  def __init__(self, numerator, denominator):\n",
        "    self.numerator = numerator\n",
        "    self.denominator = denominator\n",
        "    self.simplify()\n",
        "  def simplify(self):\n",
        "    common_divisor = math.gcd(self.numerator, self.denominator)\n",
        "    self.numerator //= common_divisor\n",
        "    self.denominator //= common_divisor\n",
        "  def __add__(self, other):\n",
        "    new_numerator = self.numerator * other.denominator + self.denominator * other.numerator\n",
        "    new_denominator = self.denominator * other.denominator\n",
        "    return Fraction(new_numerator, new_denominator)\n",
        "  def __eq__(self, other):\n",
        "    return self.numerator == other.denominator and self.denominator == other.numerator\n",
        "  def __lt__(self, other):\n",
        "    return self.numerator * other.denominator < self.denominator * other.numerator\n",
        "  def __gt__(self, other):\n",
        "    return self.numerator * other.denominator > self.denominator * other.numerator\n",
        "  def __repr__(self):\n",
        "    return f'{self.numerator}/{self.denominator}'\n",
        "f1 = Fraction(1, 2)\n",
        "f2 = Fraction(2, 3)\n",
        "f3 = f1 + f2\n",
        "print(f3)\n",
        "print(f1 == f2)\n",
        "print(f1 < f2)\n",
        "print(f1 > f2)"
      ],
      "metadata": {
        "colab": {
          "base_uri": "https://localhost:8080/"
        },
        "id": "plWtCOt1T6yl",
        "outputId": "17f6a533-048f-4990-ad72-01c4fa671218"
      },
      "execution_count": null,
      "outputs": [
        {
          "output_type": "stream",
          "name": "stdout",
          "text": [
            "7/6\n",
            "False\n",
            "True\n",
            "False\n"
          ]
        }
      ]
    },
    {
      "cell_type": "code",
      "source": [
        "class MyClass:\n",
        "  def __init__(self, value):\n",
        "    self.value = value\n",
        "  def print_value(obj):\n",
        "    print(f\"The value is: {obj.value}\")\n",
        "obj = MyClass(10)\n",
        "obj.print_value()"
      ],
      "metadata": {
        "colab": {
          "base_uri": "https://localhost:8080/"
        },
        "id": "OUupJDHrXaGt",
        "outputId": "d778ead6-4e17-4db4-9550-553a6e642009"
      },
      "execution_count": null,
      "outputs": [
        {
          "output_type": "stream",
          "name": "stdout",
          "text": [
            "The value is: 10\n"
          ]
        }
      ]
    },
    {
      "cell_type": "code",
      "source": [
        "print(len([1,2,3,4]))"
      ],
      "metadata": {
        "colab": {
          "base_uri": "https://localhost:8080/"
        },
        "id": "KF3gHjRzhbzi",
        "outputId": "ec616ea6-424c-4262-a6dc-70a5813ef533"
      },
      "execution_count": null,
      "outputs": [
        {
          "output_type": "stream",
          "name": "stdout",
          "text": [
            "4\n"
          ]
        }
      ]
    }
  ]
}