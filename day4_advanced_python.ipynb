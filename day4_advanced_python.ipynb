{
  "nbformat": 4,
  "nbformat_minor": 0,
  "metadata": {
    "colab": {
      "provenance": [],
      "authorship_tag": "ABX9TyO6J5R25BOhMQRAfa8ykc1N",
      "include_colab_link": true
    },
    "kernelspec": {
      "name": "python3",
      "display_name": "Python 3"
    },
    "language_info": {
      "name": "python"
    }
  },
  "cells": [
    {
      "cell_type": "markdown",
      "metadata": {
        "id": "view-in-github",
        "colab_type": "text"
      },
      "source": [
        "<a href=\"https://colab.research.google.com/github/Himadreee18/Advanced-python/blob/main/day4_advanced_python.ipynb\" target=\"_parent\"><img src=\"https://colab.research.google.com/assets/colab-badge.svg\" alt=\"Open In Colab\"/></a>"
      ]
    },
    {
      "cell_type": "code",
      "execution_count": null,
      "metadata": {
        "colab": {
          "base_uri": "https://localhost:8080/"
        },
        "id": "o4q3GsWmXZrk",
        "outputId": "1b0dfaea-5647-4a52-a615-e1941f519055"
      },
      "outputs": [
        {
          "output_type": "stream",
          "name": "stdout",
          "text": [
            "10\n"
          ]
        }
      ],
      "source": [
        "def f1():\n",
        "    x = 10\n",
        "\n",
        "def f2():\n",
        "    global x\n",
        "    x += 10\n",
        "    print(x)\n",
        "x = 0\n",
        "f2()\n",
        "f1()\n"
      ]
    },
    {
      "cell_type": "code",
      "source": [
        "def make_counter():\n",
        "  count = 0\n",
        "  def counter():\n",
        "    nonlocal count\n",
        "    count += 1\n",
        "    return count\n",
        "  return counter\n",
        "\n",
        "counter1 = make_counter()\n",
        "counter2 = make_counter()\n",
        "print(counter1())\n",
        "print(counter1())\n",
        "print(counter1())\n",
        "\n",
        "print(counter2())\n",
        "print(counter2())\n",
        "\n"
      ],
      "metadata": {
        "colab": {
          "base_uri": "https://localhost:8080/"
        },
        "id": "RxvNggPQf5Y2",
        "outputId": "76adce82-16c3-4092-8b5d-3582df4f0b87"
      },
      "execution_count": null,
      "outputs": [
        {
          "output_type": "stream",
          "name": "stdout",
          "text": [
            "1\n",
            "2\n",
            "3\n",
            "1\n",
            "2\n"
          ]
        }
      ]
    },
    {
      "cell_type": "code",
      "source": [
        " def decor(func):\n",
        "   def inner():\n",
        "    print('----------')\n",
        "    func()\n",
        "    print('----------')\n",
        "   return inner\n",
        "@decor\n",
        "def msg():\n",
        "  print('Hellow')\n",
        "\n",
        "msg()"
      ],
      "metadata": {
        "colab": {
          "base_uri": "https://localhost:8080/"
        },
        "id": "Ssm5Go9JhKkf",
        "outputId": "4beed6da-2832-45e1-f173-eaf7bebe4a76"
      },
      "execution_count": null,
      "outputs": [
        {
          "output_type": "stream",
          "name": "stdout",
          "text": [
            "----------\n",
            "Hellow\n",
            "----------\n"
          ]
        }
      ]
    },
    {
      "cell_type": "code",
      "source": [
        "print(\"Himadreee\")"
      ],
      "metadata": {
        "colab": {
          "base_uri": "https://localhost:8080/"
        },
        "id": "-Sgrr1MKl-hh",
        "outputId": "2685edb6-7a2d-4d09-8383-8dc2ca5d3914"
      },
      "execution_count": null,
      "outputs": [
        {
          "output_type": "stream",
          "name": "stdout",
          "text": [
            "Himadreee\n"
          ]
        }
      ]
    },
    {
      "cell_type": "code",
      "source": [
        "from datetime import datetime\n",
        "def not_duering_night(func):\n",
        "  def inner():\n",
        "    if 7 <= datetime.now().hour < 22:\n",
        "      func()\n",
        "    else:\n",
        "      print(\"Sorry Unable to play music in night\")\n",
        "  return inner\n",
        "@not_duering_night\n",
        "def music():\n",
        "  print(\"Playing music\")\n",
        "music()"
      ],
      "metadata": {
        "colab": {
          "base_uri": "https://localhost:8080/"
        },
        "id": "zvZRQQEjpUgC",
        "outputId": "874ad4c1-4cb3-4be8-e6b9-3569438241fc"
      },
      "execution_count": null,
      "outputs": [
        {
          "output_type": "stream",
          "name": "stdout",
          "text": [
            "Playing music\n"
          ]
        }
      ]
    },
    {
      "cell_type": "code",
      "source": [
        "def do_twice(func):\n",
        "  def wrapper_do_twice(*args, **kargs):\n",
        "    func(*args, **kargs)\n",
        "    func(*args, **kargs)\n",
        "  return wrapper_do_twice\n",
        "@do_twice\n",
        "def message(name):\n",
        "  print(f\"Hello {name}\")\n",
        "message(\"Mohit\")\n"
      ],
      "metadata": {
        "colab": {
          "base_uri": "https://localhost:8080/"
        },
        "id": "1sxPtprQreui",
        "outputId": "fd2ff5a3-4572-4d62-b1cf-2a3888b68c2d"
      },
      "execution_count": null,
      "outputs": [
        {
          "output_type": "stream",
          "name": "stdout",
          "text": [
            "Hello Mohit\n",
            "Hello Mohit\n"
          ]
        }
      ]
    },
    {
      "cell_type": "code",
      "source": [
        "def decor1(func):\n",
        "  def inner():\n",
        "    x = func()\n",
        "    return x * x\n",
        "  return inner\n",
        "def decor(func):\n",
        "  def inner():\n",
        "    x = func()\n",
        "    return 2 * x\n",
        "  return inner\n",
        "@decor1\n",
        "@decor\n",
        "def num():\n",
        "  return 10\n",
        "print(num())"
      ],
      "metadata": {
        "colab": {
          "base_uri": "https://localhost:8080/"
        },
        "id": "3tf9RpQPs4nz",
        "outputId": "5899fb68-722f-4633-8a04-d666c5c7d622"
      },
      "execution_count": null,
      "outputs": [
        {
          "output_type": "stream",
          "name": "stdout",
          "text": [
            "400\n"
          ]
        }
      ]
    }
  ]
}